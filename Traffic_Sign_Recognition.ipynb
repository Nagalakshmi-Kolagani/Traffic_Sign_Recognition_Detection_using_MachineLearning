{
  "nbformat": 4,
  "nbformat_minor": 0,
  "metadata": {
    "kernelspec": {
      "name": "python3",
      "display_name": "Python 3",
      "language": "python"
    },
    "language_info": {
      "name": "python",
      "version": "3.7.6",
      "mimetype": "text/x-python",
      "codemirror_mode": {
        "name": "ipython",
        "version": 3
      },
      "pygments_lexer": "ipython3",
      "nbconvert_exporter": "python",
      "file_extension": ".py"
    },
    "colab": {
      "name": "Copy of Traffic Recognition.ipynb",
      "provenance": [],
      "collapsed_sections": []
    }
  },
  "cells": [
    {
      "cell_type": "markdown",
      "metadata": {
        "id": "m2YgKZ2NfgSf",
        "colab_type": "text"
      },
      "source": [
        "**Traffic Sign Recognition**"
      ]
    },
    {
      "cell_type": "code",
      "metadata": {
        "trusted": true,
        "id": "nfuJ5vowuVV7",
        "colab_type": "code",
        "colab": {}
      },
      "source": [
        "import numpy as np\n",
        "import matplotlib.pyplot as plt\n",
        "import os\n",
        "import time\n",
        "import pandas as pd\n",
        "from PIL import Image\n",
        "from sklearn.model_selection import train_test_split"
      ],
      "execution_count": null,
      "outputs": []
    },
    {
      "cell_type": "markdown",
      "metadata": {
        "id": "1xNgmV7PfuNV",
        "colab_type": "text"
      },
      "source": [
        "**Seperating of labels and images**"
      ]
    },
    {
      "cell_type": "code",
      "metadata": {
        "trusted": true,
        "id": "-nwH25kTuVWI",
        "colab_type": "code",
        "colab": {}
      },
      "source": [
        "X = [] #images stored as np array\n",
        "y = [] #class labels (0 to 42)\n",
        "\n",
        "classes = 43\n",
        "\n",
        "for i in range(classes):\n",
        "    path = os.path.join('/content/My Drive/datasets/gtsrb-german-traffic-sign/Train/',str(i)+'/')\n",
        "    images = os.listdir(path)\n",
        "    \n",
        "    for img_name in images:\n",
        "        image = Image.open(path +img_name)\n",
        "        image = image.resize((30, 30))\n",
        "        image = np.array(image)\n",
        "        X.append(image)\n",
        "        y.append(i)\n",
        "        \n",
        "X = np.array(X)\n",
        "y = np.array(y)\n"
      ],
      "execution_count": null,
      "outputs": []
    },
    {
      "cell_type": "code",
      "metadata": {
        "trusted": true,
        "id": "4NPOpsEHuVWV",
        "colab_type": "code",
        "colab": {}
      },
      "source": [
        "X_train, X_test, y_train, y_test = train_test_split(X,y, test_size=0.2, random_state=42)"
      ],
      "execution_count": null,
      "outputs": []
    },
    {
      "cell_type": "code",
      "metadata": {
        "trusted": true,
        "id": "SqPnoU9SuVWd",
        "colab_type": "code",
        "colab": {}
      },
      "source": [
        "import torch\n",
        "import torch.nn as nn\n",
        "import torch.nn.functional as F\n",
        "import torch.optim as optim\n",
        "from torch.utils.data import TensorDataset\n",
        "from torch.utils.data import DataLoader"
      ],
      "execution_count": null,
      "outputs": []
    },
    {
      "cell_type": "markdown",
      "metadata": {
        "id": "AuM__Y2kf-bi",
        "colab_type": "text"
      },
      "source": [
        "**conv1 -> conv2 -> maxpool1 -> dropout1 -> conv3 -> conv4 -> maxpool2 -> dropout2 -> fc1 -> dropout3 -> fc2 -> linear**"
      ]
    },
    {
      "cell_type": "code",
      "metadata": {
        "trusted": true,
        "id": "zgIx3Kd6uVWk",
        "colab_type": "code",
        "colab": {}
      },
      "source": [
        "class Net(nn.Module):\n",
        "    \n",
        "    def __init__(self):\n",
        "        super(Net, self).__init__()\n",
        "        self.conv1 = nn.Conv2d(3, 32, 5) #output (26,26,32)\n",
        "        self.conv2 = nn.Conv2d(32, 32, 5) #output (22,22,32)\n",
        "        self.pool1 = nn.MaxPool2d(2,2) #output (11,11,32)\n",
        "        self.dropout1 = nn.Dropout(0.25) #output (11,11,32)\n",
        "        self.conv3 = nn.Conv2d(32, 64, 3) #output(9,9,64)\n",
        "        self.conv4 = nn.Conv2d(64, 64, 3) #output (7,7,64)\n",
        "        self.pool2 = nn.MaxPool2d(2,2)  #output (3,3,64)\n",
        "        self.dropout2 = nn.Dropout(0.25) #output (3,3,64)\n",
        "        self.fc1 = nn.Linear(3*3*64,256) #output (256, 1)\n",
        "        self.dropout3 = nn.Dropout(0.5) #output (256, 1)\n",
        "        self.fc2 = nn.Linear(256, 43) #output (43, 1)\n",
        "        \n",
        "    def forward(self, x):\n",
        "        x = F.relu(self.conv1(x))\n",
        "        x = F.relu(self.conv2(x))\n",
        "        x = self.pool1(x)\n",
        "        x = self.dropout1(x)\n",
        "        x = F.relu(self.conv3(x))\n",
        "        x = F.relu(self.conv4(x))\n",
        "        x = self.pool2(x)\n",
        "        x = self.dropout2(x)\n",
        "        x = x.view(-1, 3*3*64)\n",
        "        x = F.relu(self.fc1(x))\n",
        "        x = self.dropout3(x)\n",
        "        x = self.fc2(x)\n",
        "        return x"
      ],
      "execution_count": null,
      "outputs": []
    },
    {
      "cell_type": "code",
      "metadata": {
        "trusted": true,
        "id": "YvyqIv6juVWp",
        "colab_type": "code",
        "colab": {},
        "outputId": "d6a97e1c-80b6-4c9f-a2f1-efe061641213"
      },
      "source": [
        "model = Net()\n",
        "model"
      ],
      "execution_count": null,
      "outputs": [
        {
          "output_type": "execute_result",
          "data": {
            "text/plain": [
              "Net(\n",
              "  (conv1): Conv2d(3, 32, kernel_size=(5, 5), stride=(1, 1))\n",
              "  (conv2): Conv2d(32, 32, kernel_size=(5, 5), stride=(1, 1))\n",
              "  (pool1): MaxPool2d(kernel_size=2, stride=2, padding=0, dilation=1, ceil_mode=False)\n",
              "  (dropout1): Dropout(p=0.25, inplace=False)\n",
              "  (conv3): Conv2d(32, 64, kernel_size=(3, 3), stride=(1, 1))\n",
              "  (conv4): Conv2d(64, 64, kernel_size=(3, 3), stride=(1, 1))\n",
              "  (pool2): MaxPool2d(kernel_size=2, stride=2, padding=0, dilation=1, ceil_mode=False)\n",
              "  (dropout2): Dropout(p=0.25, inplace=False)\n",
              "  (fc1): Linear(in_features=576, out_features=256, bias=True)\n",
              "  (dropout3): Dropout(p=0.5, inplace=False)\n",
              "  (fc2): Linear(in_features=256, out_features=43, bias=True)\n",
              ")"
            ]
          },
          "metadata": {
            "tags": []
          },
          "execution_count": 37
        }
      ]
    },
    {
      "cell_type": "code",
      "metadata": {
        "trusted": true,
        "id": "mBWqQbhouVWv",
        "colab_type": "code",
        "colab": {}
      },
      "source": [
        "criterion = nn.CrossEntropyLoss()\n",
        "optimizer = optim.Adam(model.parameters())"
      ],
      "execution_count": null,
      "outputs": []
    },
    {
      "cell_type": "markdown",
      "metadata": {
        "id": "1vSwbVZOgj6w",
        "colab_type": "text"
      },
      "source": [
        "**Transformation of images into tensor**"
      ]
    },
    {
      "cell_type": "code",
      "metadata": {
        "trusted": true,
        "id": "nWFY-HKHuVWz",
        "colab_type": "code",
        "colab": {}
      },
      "source": [
        "X_train_tensor = torch.from_numpy(np.transpose(X_train, (0, 3, 1, 2))).float()\n",
        "y_train_tensor = torch.from_numpy(y_train).long()\n",
        "X_val_tensor = torch.from_numpy(np.transpose(X_test, (0, 3, 1, 2))).float()\n",
        "y_val_tensor = torch.from_numpy(y_test).long()\n",
        "train_data = TensorDataset(X_train_tensor, y_train_tensor)\n",
        "val_data = TensorDataset(X_val_tensor, y_val_tensor)\n",
        "train_dataloader = DataLoader(dataset=train_data, batch_size=64)\n",
        "val_dataloader = DataLoader(dataset=val_data, batch_size=64)\n",
        "dataloaders = {'train': train_dataloader, 'val':val_dataloader}\n",
        "dataset_sizes = {'train': len(X_train), 'val': len(X_test)}"
      ],
      "execution_count": null,
      "outputs": []
    },
    {
      "cell_type": "markdown",
      "metadata": {
        "id": "W-Nlv0PtgxI-",
        "colab_type": "text"
      },
      "source": [
        "**Training**"
      ]
    },
    {
      "cell_type": "code",
      "metadata": {
        "trusted": true,
        "id": "AIrR61kkuVW4",
        "colab_type": "code",
        "colab": {}
      },
      "source": [
        "def train_model(model, criterion, optimizer, dataset_sizes, num_epochs=15):\n",
        "    \n",
        "    since = time.time()\n",
        "    epoch_loss = []\n",
        "    epoch_acc = []\n",
        "    \n",
        "    for epoch in range(num_epochs):\n",
        "        print('Epoch {}/{}'.format(epoch, num_epochs - 1))\n",
        "        print('-' * 10)\n",
        "\n",
        "        # Each epoch has a training and validation phase\n",
        "        for phase in ['train', 'val']:\n",
        "            if phase == 'train':\n",
        "                model.train()  # Set model to training mode\n",
        "            else:\n",
        "                model.eval()   # Set model to evaluate mode\n",
        "\n",
        "            i = 0\n",
        "            running_loss = 0.0\n",
        "            running_corrects = 0\n",
        "            \n",
        "            if phase == 'train':\n",
        "                 print(f'\\rProgress:',end='')\n",
        "                       \n",
        "            # Iterate over data.\n",
        "            for inputs, labels in dataloaders[phase]:\n",
        "\n",
        "                # zero the parameter gradients\n",
        "                optimizer.zero_grad()\n",
        "\n",
        "                # forward\n",
        "                with torch.set_grad_enabled(phase == 'train'):\n",
        "                    outputs = model(inputs)\n",
        "                    _, preds = torch.max(outputs, 1)\n",
        "                    loss = criterion(outputs, labels)\n",
        "                    if phase == 'train':\n",
        "                        loss.backward()\n",
        "                        optimizer.step()\n",
        "\n",
        "                # statistics\n",
        "                running_loss += loss.item()\n",
        "                running_corrects += torch.sum(preds == labels.data)\n",
        "                if phase == 'train' and i % 50 == 49:\n",
        "                    print(f\"\\rProgress: [{'='*((i+1)//50)}] \",end='')\n",
        "                i += 1\n",
        "                                  \n",
        "            epoch_loss.append(running_loss / dataset_sizes[phase])\n",
        "            epoch_acc.append(running_corrects.numpy() / dataset_sizes[phase])\n",
        "\n",
        "            print('{} Loss: {:.4f} Acc: {:.4f}'.format(\n",
        "                phase, epoch_loss[-1], epoch_acc[-1]))\n",
        "\n",
        "        print()\n",
        "\n",
        "    time_elapsed = time.time() - since\n",
        "    print('Training complete in {:.0f}m {:.0f}s'.format(\n",
        "        time_elapsed // 60, time_elapsed % 60))\n",
        "\n",
        "    return epoch_loss, epoch_acc"
      ],
      "execution_count": null,
      "outputs": []
    },
    {
      "cell_type": "code",
      "metadata": {
        "trusted": true,
        "id": "m20YSK4GuVW8",
        "colab_type": "code",
        "colab": {},
        "outputId": "a1f55afe-15be-4c56-8b53-86993a213e56"
      },
      "source": [
        "epoch_loss, epoch_acc = train_model(model, criterion, optimizer, dataset_sizes, num_epochs=15)"
      ],
      "execution_count": null,
      "outputs": [
        {
          "output_type": "stream",
          "text": [
            "Epoch 0/14\n",
            "----------\n",
            "Progress: [=========] train Loss: 0.0297 Acc: 0.4922\n",
            "val Loss: 0.0117 Acc: 0.8128\n",
            "\n",
            "Epoch 1/14\n",
            "----------\n",
            "Progress: [=========] train Loss: 0.0138 Acc: 0.7389\n",
            "val Loss: 0.0073 Acc: 0.8863\n",
            "\n",
            "Epoch 2/14\n",
            "----------\n",
            "Progress: [=========] train Loss: 0.0109 Acc: 0.7919\n",
            "val Loss: 0.0048 Acc: 0.9157\n",
            "\n",
            "Epoch 3/14\n",
            "----------\n",
            "Progress: [=========] train Loss: 0.0096 Acc: 0.8151\n",
            "val Loss: 0.0040 Acc: 0.9245\n",
            "\n",
            "Epoch 4/14\n",
            "----------\n",
            "Progress: [=========] train Loss: 0.0088 Acc: 0.8283\n",
            "val Loss: 0.0035 Acc: 0.9288\n",
            "\n",
            "Epoch 5/14\n",
            "----------\n",
            "Progress: [=========] train Loss: 0.0081 Acc: 0.8422\n",
            "val Loss: 0.0032 Acc: 0.9375\n",
            "\n",
            "Epoch 6/14\n",
            "----------\n",
            "Progress: [=========] train Loss: 0.0075 Acc: 0.8510\n",
            "val Loss: 0.0031 Acc: 0.9389\n",
            "\n",
            "Epoch 7/14\n",
            "----------\n",
            "Progress: [=========] train Loss: 0.0073 Acc: 0.8593\n",
            "val Loss: 0.0025 Acc: 0.9513\n",
            "\n",
            "Epoch 8/14\n",
            "----------\n",
            "Progress: [=========] train Loss: 0.0069 Acc: 0.8657\n",
            "val Loss: 0.0026 Acc: 0.9505\n",
            "\n",
            "Epoch 9/14\n",
            "----------\n",
            "Progress: [=========] train Loss: 0.0069 Acc: 0.8657\n",
            "val Loss: 0.0025 Acc: 0.9551\n",
            "\n",
            "Epoch 10/14\n",
            "----------\n",
            "Progress: [=========] train Loss: 0.0066 Acc: 0.8717\n",
            "val Loss: 0.0032 Acc: 0.9346\n",
            "\n",
            "Epoch 11/14\n",
            "----------\n",
            "Progress: [=========] train Loss: 0.0064 Acc: 0.8756\n",
            "val Loss: 0.0021 Acc: 0.9577\n",
            "\n",
            "Epoch 12/14\n",
            "----------\n",
            "Progress: [=========] train Loss: 0.0063 Acc: 0.8781\n",
            "val Loss: 0.0021 Acc: 0.9574\n",
            "\n",
            "Epoch 13/14\n",
            "----------\n",
            "Progress: [=========] train Loss: 0.0061 Acc: 0.8817\n",
            "val Loss: 0.0020 Acc: 0.9614\n",
            "\n",
            "Epoch 14/14\n",
            "----------\n",
            "Progress: [=========] train Loss: 0.0059 Acc: 0.8824\n",
            "val Loss: 0.0025 Acc: 0.9517\n",
            "\n",
            "Training complete in 14m 14s\n"
          ],
          "name": "stdout"
        }
      ]
    },
    {
      "cell_type": "code",
      "metadata": {
        "trusted": true,
        "id": "Uh_VteJquVXB",
        "colab_type": "code",
        "colab": {}
      },
      "source": [
        "accuracy = epoch_acc[::2]\n",
        "val_accuracy = epoch_acc[1::2]\n",
        "loss = epoch_loss[::2]\n",
        "val_loss = epoch_loss[1::2]"
      ],
      "execution_count": null,
      "outputs": []
    },
    {
      "cell_type": "markdown",
      "metadata": {
        "id": "u3wW5fDgg_Zl",
        "colab_type": "text"
      },
      "source": [
        "**Plotting Training and Validation Accuracy**"
      ]
    },
    {
      "cell_type": "code",
      "metadata": {
        "trusted": true,
        "id": "aATymo4wuVXF",
        "colab_type": "code",
        "colab": {},
        "outputId": "73c5f55f-5863-4d54-a40c-cf2e6c0fdec0"
      },
      "source": [
        "plt.figure()\n",
        "plt.plot(accuracy, label = 'Training Accuracy')\n",
        "plt.plot(val_accuracy, label = 'Validation Accuracy')\n",
        "plt.title('Accuray')\n",
        "plt.xlabel('epochs')\n",
        "plt.ylabel('accuracy')\n",
        "plt.legend()\n"
      ],
      "execution_count": null,
      "outputs": [
        {
          "output_type": "execute_result",
          "data": {
            "text/plain": [
              "<matplotlib.legend.Legend at 0x7fe774adec10>"
            ]
          },
          "metadata": {
            "tags": []
          },
          "execution_count": 43
        },
        {
          "output_type": "display_data",
          "data": {
            "text/plain": [
              "<Figure size 432x288 with 1 Axes>"
            ],
            "image/png": "[encoded data removed]"
          },
          "metadata": {
            "tags": [],
            "needs_background": "light"
          }
        }
      ]
    },
    {
      "cell_type": "markdown",
      "metadata": {
        "id": "gP6TU5ibhKWR",
        "colab_type": "text"
      },
      "source": [
        "**Plotting Training and Validation Losses**"
      ]
    },
    {
      "cell_type": "code",
      "metadata": {
        "trusted": true,
        "id": "mobCJL0vuVXJ",
        "colab_type": "code",
        "colab": {},
        "outputId": "1e376116-6db7-405e-e815-1cf5cfb6b358"
      },
      "source": [
        "plt.figure()\n",
        "plt.plot(loss, label = 'Training Loss')\n",
        "plt.plot(val_loss, label = 'Validation Loss')\n",
        "plt.title('Loss')\n",
        "plt.xlabel('epochs')\n",
        "plt.ylabel('loss')\n",
        "plt.legend()\n"
      ],
      "execution_count": null,
      "outputs": [
        {
          "output_type": "execute_result",
          "data": {
            "text/plain": [
              "<matplotlib.legend.Legend at 0x7fe7abfcf310>"
            ]
          },
          "metadata": {
            "tags": []
          },
          "execution_count": 44
        },
        {
          "output_type": "display_data",
          "data": {
            "text/plain": [
              "<Figure size 432x288 with 1 Axes>"
            ],
            "image/png": "[encoded data removed]"
          },
          "metadata": {
            "tags": [],
            "needs_background": "light"
          }
        }
      ]
    },
    {
      "cell_type": "markdown",
      "metadata": {
        "id": "FOBJaptihSAJ",
        "colab_type": "text"
      },
      "source": [
        "**Saving model**"
      ]
    },
    {
      "cell_type": "code",
      "metadata": {
        "trusted": true,
        "id": "pVy9PkKLuVXN",
        "colab_type": "code",
        "colab": {}
      },
      "source": [
        "torch.save(model.state_dict(), 'model.pt')"
      ],
      "execution_count": null,
      "outputs": []
    },
    {
      "cell_type": "markdown",
      "metadata": {
        "id": "aY7XjWUThXyF",
        "colab_type": "text"
      },
      "source": [
        "**loading model**"
      ]
    },
    {
      "cell_type": "code",
      "metadata": {
        "trusted": true,
        "id": "F1ThVckluVXR",
        "colab_type": "code",
        "colab": {},
        "outputId": "f62a6bc8-2bb1-443b-a910-9aebfef0e145"
      },
      "source": [
        "py_model=Net()\n",
        "py_model.load_state_dict(torch.load('model.pt'))"
      ],
      "execution_count": null,
      "outputs": [
        {
          "output_type": "execute_result",
          "data": {
            "text/plain": [
              "Net(\n",
              "  (conv1): Conv2d(3, 32, kernel_size=(5, 5), stride=(1, 1))\n",
              "  (conv2): Conv2d(32, 32, kernel_size=(5, 5), stride=(1, 1))\n",
              "  (pool1): MaxPool2d(kernel_size=2, stride=2, padding=0, dilation=1, ceil_mode=False)\n",
              "  (dropout1): Dropout(p=0.25, inplace=False)\n",
              "  (conv3): Conv2d(32, 64, kernel_size=(3, 3), stride=(1, 1))\n",
              "  (conv4): Conv2d(64, 64, kernel_size=(3, 3), stride=(1, 1))\n",
              "  (pool2): MaxPool2d(kernel_size=2, stride=2, padding=0, dilation=1, ceil_mode=False)\n",
              "  (dropout2): Dropout(p=0.25, inplace=False)\n",
              "  (fc1): Linear(in_features=576, out_features=256, bias=True)\n",
              "  (dropout3): Dropout(p=0.5, inplace=False)\n",
              "  (fc2): Linear(in_features=256, out_features=43, bias=True)\n",
              ")"
            ]
          },
          "metadata": {
            "tags": []
          },
          "execution_count": 56
        }
      ]
    },
    {
      "cell_type": "markdown",
      "metadata": {
        "id": "B0waQ2ZShgj6",
        "colab_type": "text"
      },
      "source": [
        "**Testing**"
      ]
    },
    {
      "cell_type": "code",
      "metadata": {
        "trusted": true,
        "id": "OAY9yXv5uVXU",
        "colab_type": "code",
        "colab": {}
      },
      "source": [
        "N = 5000\n",
        "import pandas as pd\n",
        "test_model_data = pd.read_csv('/content/My Drive/datasets/gtsrb-german-traffic-sign/Test.csv')\n",
        "\n",
        "y_test_labels = test_model_data['ClassId'][:N]\n",
        "img_paths = test_model_data['Path'][:N]\n",
        "x_test_labels = []\n",
        "path=\"/content/My Drive/datsets/gtsrb-german-traffic-sign/\"\n",
        "#read images from disk\n",
        "for img in img_paths:\n",
        "    image = Image.open(path+img)\n",
        "    image = image.resize((30,30))\n",
        "    image=np.array(image)    \n",
        "    x_test_labels.append(image)\n",
        "    \n",
        "x_test_labels = np.array(x_test_labels)"
      ],
      "execution_count": null,
      "outputs": []
    },
    {
      "cell_type": "code",
      "metadata": {
        "trusted": true,
        "id": "kxuCC8_duVXY",
        "colab_type": "code",
        "colab": {},
        "outputId": "4caf00e5-b543-4bfe-b614-aac1dc0f354c"
      },
      "source": [
        "X_test_labels_tensor = torch.from_numpy(np.transpose(x_test_labels, (0, 3, 1, 2))).float()\n",
        "y_test_labels_tensor = torch.from_numpy(y_test_labels.values).long()\n",
        "print(X_test_labels_tensor.shape)"
      ],
      "execution_count": null,
      "outputs": [
        {
          "output_type": "stream",
          "text": [
            "torch.Size([5000, 3, 30, 30])\n"
          ],
          "name": "stdout"
        }
      ]
    },
    {
      "cell_type": "markdown",
      "metadata": {
        "id": "oG-RX7vRhmkM",
        "colab_type": "text"
      },
      "source": [
        "**Evaluation**"
      ]
    },
    {
      "cell_type": "code",
      "metadata": {
        "trusted": true,
        "id": "RR01TSf9uVXd",
        "colab_type": "code",
        "colab": {},
        "outputId": "20fc317c-ade2-4a1c-b8b8-7198e4119d9b"
      },
      "source": [
        "model.eval()\n",
        "y_test_outputs = model(X_test_labels_tensor)\n",
        "_, y_test_preds = torch.max(y_test_outputs, 1)\n",
        "print(y_test_preds.numpy())\n",
        "acc = torch.sum(y_test_preds == y_test_labels_tensor.data).float()/len(y_test_labels)\n",
        "print(f\"{acc:.2%}\")"
      ],
      "execution_count": null,
      "outputs": [
        {
          "output_type": "stream",
          "text": [
            "[16  1 38 ...  4  3 35]\n",
            "90.40%\n"
          ],
          "name": "stdout"
        }
      ]
    }
  ]
}